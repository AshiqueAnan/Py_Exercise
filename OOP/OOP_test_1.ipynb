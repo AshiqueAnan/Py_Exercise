{
 "cells": [
  {
   "cell_type": "code",
   "execution_count": 1,
   "id": "d3749b4b",
   "metadata": {},
   "outputs": [],
   "source": [
    "class Phone:\n",
    "    Brand = \"Apple\"\n",
    "    Model = \"Iphone 15\"\n",
    "    OS = \"IOS 15\"\n",
    "    Camera = \"48MP main\""
   ]
  },
  {
   "cell_type": "code",
   "execution_count": 2,
   "id": "82a63b35",
   "metadata": {},
   "outputs": [],
   "source": [
    "My_Phn = Phone()"
   ]
  },
  {
   "cell_type": "code",
   "execution_count": 3,
   "id": "0a61581a",
   "metadata": {},
   "outputs": [
    {
     "data": {
      "text/plain": [
       "'Apple'"
      ]
     },
     "execution_count": 3,
     "metadata": {},
     "output_type": "execute_result"
    }
   ],
   "source": [
    "My_Phn.Brand"
   ]
  },
  {
   "cell_type": "code",
   "execution_count": 4,
   "id": "62da9b69",
   "metadata": {},
   "outputs": [
    {
     "data": {
      "text/plain": [
       "'48MP main'"
      ]
     },
     "execution_count": 4,
     "metadata": {},
     "output_type": "execute_result"
    }
   ],
   "source": [
    "My_Phn.Camera"
   ]
  },
  {
   "cell_type": "code",
   "execution_count": 18,
   "id": "a769864d",
   "metadata": {},
   "outputs": [
    {
     "name": "stdout",
     "output_type": "stream",
     "text": [
      "Help on Phone in module __main__ object:\n",
      "\n",
      "class Phone(builtins.object)\n",
      " |  Data descriptors defined here:\n",
      " |  \n",
      " |  __dict__\n",
      " |      dictionary for instance variables (if defined)\n",
      " |  \n",
      " |  __weakref__\n",
      " |      list of weak references to the object (if defined)\n",
      " |  \n",
      " |  ----------------------------------------------------------------------\n",
      " |  Data and other attributes defined here:\n",
      " |  \n",
      " |  Brand = 'Apple'\n",
      " |  \n",
      " |  Camera = '48MP main'\n",
      " |  \n",
      " |  Model = 'Iphone 15'\n",
      " |  \n",
      " |  OS = 'IOS 15'\n",
      "\n"
     ]
    }
   ],
   "source": [
    "help(My_Phn)"
   ]
  },
  {
   "cell_type": "code",
   "execution_count": null,
   "id": "d2c44002",
   "metadata": {},
   "outputs": [],
   "source": []
  }
 ],
 "metadata": {
  "kernelspec": {
   "display_name": "Python 3 (ipykernel)",
   "language": "python",
   "name": "python3"
  },
  "language_info": {
   "codemirror_mode": {
    "name": "ipython",
    "version": 3
   },
   "file_extension": ".py",
   "mimetype": "text/x-python",
   "name": "python",
   "nbconvert_exporter": "python",
   "pygments_lexer": "ipython3",
   "version": "3.9.12"
  }
 },
 "nbformat": 4,
 "nbformat_minor": 5
}
