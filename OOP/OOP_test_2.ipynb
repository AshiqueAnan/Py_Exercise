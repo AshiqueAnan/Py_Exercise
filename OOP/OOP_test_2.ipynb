{
 "cells": [
  {
   "cell_type": "code",
   "execution_count": 76,
   "id": "c6086112",
   "metadata": {},
   "outputs": [],
   "source": [
    "class Phone:\n",
    "    def __init__(self, Brand = \"No info\", Model = \"No info\", Camera = \"No info\", OS = \"No info\", color = \"No info\"):\n",
    "        \n",
    "        self.Brand = Brand\n",
    "        self.Model = Model\n",
    "        self.Camera = Camera\n",
    "        self.OS = OS\n",
    "        self.color = color\n",
    "        \n",
    "    def Show_Info(self):\n",
    "        print(\"info's are below \\n\")\n",
    "        print(\"Phone's Brand is \" , self.Brand , \"\\n\")\n",
    "        print(\"Phone's model is \" , self.Model , \"\\n\")\n",
    "        print(\"Phone's Camera is \" , self.Camera , \"\\n\")\n",
    "        print(\"Phone's OS is \" , self.OS , \"\\n\")\n",
    "        print(\"Phone's color is \" , self.color , \"\\n\")\n",
    "        "
   ]
  },
  {
   "cell_type": "code",
   "execution_count": 77,
   "id": "b7491896",
   "metadata": {},
   "outputs": [],
   "source": [
    "JohnsPhn = Phone()"
   ]
  },
  {
   "cell_type": "code",
   "execution_count": 78,
   "id": "7bdc5ffa",
   "metadata": {},
   "outputs": [
    {
     "data": {
      "text/plain": [
       "'No info'"
      ]
     },
     "execution_count": 78,
     "metadata": {},
     "output_type": "execute_result"
    }
   ],
   "source": [
    "JohnsPhn.Brand"
   ]
  },
  {
   "cell_type": "code",
   "execution_count": 79,
   "id": "72e49bde",
   "metadata": {},
   "outputs": [],
   "source": [
    "JohnsPhn = Phone(\"Nokia\")"
   ]
  },
  {
   "cell_type": "code",
   "execution_count": 80,
   "id": "5a857680",
   "metadata": {},
   "outputs": [
    {
     "data": {
      "text/plain": [
       "'Nokia'"
      ]
     },
     "execution_count": 80,
     "metadata": {},
     "output_type": "execute_result"
    }
   ],
   "source": [
    "JohnsPhn.Brand"
   ]
  },
  {
   "cell_type": "code",
   "execution_count": 81,
   "id": "e73b0b1a",
   "metadata": {},
   "outputs": [],
   "source": [
    "RocksPhn = Phone(\"Google\", \"Pixel 6 Pro\", \"50 MP\", \"Android 14\", \"Black\")"
   ]
  },
  {
   "cell_type": "code",
   "execution_count": 82,
   "id": "d9d3a7c6",
   "metadata": {
    "scrolled": false
   },
   "outputs": [
    {
     "data": {
      "text/plain": [
       "'Pixel 6 Pro'"
      ]
     },
     "execution_count": 82,
     "metadata": {},
     "output_type": "execute_result"
    }
   ],
   "source": [
    "RocksPhn.Model"
   ]
  },
  {
   "cell_type": "code",
   "execution_count": null,
   "id": "655e79c7",
   "metadata": {},
   "outputs": [],
   "source": []
  },
  {
   "cell_type": "code",
   "execution_count": 83,
   "id": "6deddb6e",
   "metadata": {},
   "outputs": [
    {
     "name": "stdout",
     "output_type": "stream",
     "text": [
      "info's are below \n",
      "\n",
      "Phone's Brand is  Google \n",
      "\n",
      "Phone's model is  Pixel 6 Pro \n",
      "\n",
      "Phone's Camera is  50 MP \n",
      "\n",
      "Phone's OS is  Android 14 \n",
      "\n",
      "Phone's color is  Black \n",
      "\n"
     ]
    }
   ],
   "source": [
    "RocksPhn.Show_Info()"
   ]
  },
  {
   "cell_type": "code",
   "execution_count": null,
   "id": "59f1c3f7",
   "metadata": {},
   "outputs": [],
   "source": []
  }
 ],
 "metadata": {
  "kernelspec": {
   "display_name": "Python 3 (ipykernel)",
   "language": "python",
   "name": "python3"
  },
  "language_info": {
   "codemirror_mode": {
    "name": "ipython",
    "version": 3
   },
   "file_extension": ".py",
   "mimetype": "text/x-python",
   "name": "python",
   "nbconvert_exporter": "python",
   "pygments_lexer": "ipython3",
   "version": "3.9.12"
  }
 },
 "nbformat": 4,
 "nbformat_minor": 5
}
