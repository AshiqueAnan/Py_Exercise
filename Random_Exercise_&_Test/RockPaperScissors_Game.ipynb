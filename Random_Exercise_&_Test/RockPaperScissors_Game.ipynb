{
 "cells": [
  {
   "cell_type": "code",
   "execution_count": 100,
   "id": "b836ec95-6a79-4c78-b15f-b5639b6fea1d",
   "metadata": {},
   "outputs": [],
   "source": [
    "import random"
   ]
  },
  {
   "cell_type": "code",
   "execution_count": 113,
   "id": "86b75f85-7344-4fda-b8e2-8685f8b22115",
   "metadata": {},
   "outputs": [
    {
     "name": "stdin",
     "output_type": "stream",
     "text": [
      "Select Your Input: ---> \n",
      " 1. Rock\n",
      " 2. Paper\n",
      " 3. Scissors\n",
      "\n",
      " 1\n"
     ]
    },
    {
     "name": "stdout",
     "output_type": "stream",
     "text": [
      "You choose: Rock 1\n",
      "AI choose: Paper 2\n",
      "You choose Rock, and Paper beats Rock, So Duhhh, You lose LLLLL\n",
      "\n",
      " \n",
      "\n"
     ]
    },
    {
     "name": "stdin",
     "output_type": "stream",
     "text": [
      "Select Your Input: ---> \n",
      " 1. Rock\n",
      " 2. Paper\n",
      " 3. Scissors\n",
      "\n",
      " 2\n"
     ]
    },
    {
     "name": "stdout",
     "output_type": "stream",
     "text": [
      "You choose: Paper 2\n",
      "AI choose: Scissors 3\n",
      "You choose Paper, and Scissors beats Paper, So Duhhh, You lose LLLLL\n",
      "\n",
      " \n",
      "\n"
     ]
    },
    {
     "name": "stdin",
     "output_type": "stream",
     "text": [
      "Select Your Input: ---> \n",
      " 1. Rock\n",
      " 2. Paper\n",
      " 3. Scissors\n",
      "\n",
      " 3\n"
     ]
    },
    {
     "name": "stdout",
     "output_type": "stream",
     "text": [
      "You choose: Scissors 3\n",
      "AI choose: Scissors 3\n",
      "You both choose Scissors, so it's a draw \n",
      "\n",
      "\n",
      " \n",
      "\n"
     ]
    },
    {
     "name": "stdin",
     "output_type": "stream",
     "text": [
      "Select Your Input: ---> \n",
      " 1. Rock\n",
      " 2. Paper\n",
      " 3. Scissors\n",
      "\n",
      " 2\n"
     ]
    },
    {
     "name": "stdout",
     "output_type": "stream",
     "text": [
      "You choose: Paper 2\n",
      "AI choose: Paper 2\n",
      "You both choose Paper, so it's a draw \n",
      "\n",
      "\n",
      " \n",
      "\n"
     ]
    },
    {
     "name": "stdin",
     "output_type": "stream",
     "text": [
      "Select Your Input: ---> \n",
      " 1. Rock\n",
      " 2. Paper\n",
      " 3. Scissors\n",
      "\n",
      " 2\n"
     ]
    },
    {
     "name": "stdout",
     "output_type": "stream",
     "text": [
      "You choose: Paper 2\n",
      "AI choose: Rock 1\n",
      "You choose Paper, and Paper beats Rock, So you Win, Congrats!!!!!\n",
      "\n",
      " \n",
      "\n"
     ]
    },
    {
     "name": "stdin",
     "output_type": "stream",
     "text": [
      "Select Your Input: ---> \n",
      " 1. Rock\n",
      " 2. Paper\n",
      " 3. Scissors\n",
      "\n",
      " 1\n"
     ]
    },
    {
     "name": "stdout",
     "output_type": "stream",
     "text": [
      "You choose: Rock 1\n",
      "AI choose: Rock 1\n",
      "You both choose Rock, so it's a draw \n",
      "\n",
      "\n",
      " \n",
      "\n"
     ]
    },
    {
     "name": "stdin",
     "output_type": "stream",
     "text": [
      "Select Your Input: ---> \n",
      " 1. Rock\n",
      " 2. Paper\n",
      " 3. Scissors\n",
      "\n",
      " 2\n"
     ]
    },
    {
     "name": "stdout",
     "output_type": "stream",
     "text": [
      "You choose: Paper 2\n",
      "AI choose: Rock 1\n",
      "You choose Paper, and Paper beats Rock, So you Win, Congrats!!!!!\n",
      "\n",
      " \n",
      "\n"
     ]
    },
    {
     "name": "stdin",
     "output_type": "stream",
     "text": [
      "Select Your Input: ---> \n",
      " 1. Rock\n",
      " 2. Paper\n",
      " 3. Scissors\n",
      "\n",
      " 3\n"
     ]
    },
    {
     "name": "stdout",
     "output_type": "stream",
     "text": [
      "You choose: Scissors 3\n",
      "AI choose: Paper 2\n",
      "You choose Scissors, and Scissors beats Paper, So you Win, Congrats!!!!!\n",
      "\n",
      " \n",
      "\n"
     ]
    },
    {
     "ename": "KeyboardInterrupt",
     "evalue": "Interrupted by user",
     "output_type": "error",
     "traceback": [
      "\u001b[1;31m---------------------------------------------------------------------------\u001b[0m",
      "\u001b[1;31mKeyboardInterrupt\u001b[0m                         Traceback (most recent call last)",
      "Cell \u001b[1;32mIn[113], line 18\u001b[0m\n\u001b[0;32m     14\u001b[0m i \u001b[38;5;241m=\u001b[39m \u001b[38;5;241m0\u001b[39m\n\u001b[0;32m     16\u001b[0m \u001b[38;5;28;01mwhile\u001b[39;00m i\u001b[38;5;241m<\u001b[39m\u001b[38;5;241m10\u001b[39m:\n\u001b[1;32m---> 18\u001b[0m     Human_in \u001b[38;5;241m=\u001b[39m \u001b[38;5;28minput\u001b[39m(\u001b[38;5;124m\"\u001b[39m\u001b[38;5;124mSelect Your Input: ---> \u001b[39m\u001b[38;5;124m\"\u001b[39m \u001b[38;5;241m+\u001b[39m \u001b[38;5;124m\"\u001b[39m\u001b[38;5;130;01m\\n\u001b[39;00m\u001b[38;5;124m 1. Rock\u001b[39m\u001b[38;5;124m\"\u001b[39m \u001b[38;5;241m+\u001b[39m \u001b[38;5;124m\"\u001b[39m\u001b[38;5;130;01m\\n\u001b[39;00m\u001b[38;5;124m 2. Paper\u001b[39m\u001b[38;5;124m\"\u001b[39m \u001b[38;5;241m+\u001b[39m \u001b[38;5;124m\"\u001b[39m\u001b[38;5;130;01m\\n\u001b[39;00m\u001b[38;5;124m 3. Scissors\u001b[39m\u001b[38;5;124m\"\u001b[39m \u001b[38;5;241m+\u001b[39m \u001b[38;5;124m\"\u001b[39m\u001b[38;5;130;01m\\n\u001b[39;00m\u001b[38;5;124m\"\u001b[39m \u001b[38;5;241m+\u001b[39m \u001b[38;5;124m\"\u001b[39m\u001b[38;5;130;01m\\n\u001b[39;00m\u001b[38;5;124m\"\u001b[39m)\n\u001b[0;32m     20\u001b[0m     Human_in \u001b[38;5;241m=\u001b[39m \u001b[38;5;28mint\u001b[39m(Human_in)\n\u001b[0;32m     22\u001b[0m     AI \u001b[38;5;241m=\u001b[39m random\u001b[38;5;241m.\u001b[39mrandint(\u001b[38;5;241m1\u001b[39m, \u001b[38;5;241m3\u001b[39m)\n",
      "File \u001b[1;32m~\\anaconda3\\Lib\\site-packages\\ipykernel\\kernelbase.py:1262\u001b[0m, in \u001b[0;36mKernel.raw_input\u001b[1;34m(self, prompt)\u001b[0m\n\u001b[0;32m   1260\u001b[0m     msg \u001b[38;5;241m=\u001b[39m \u001b[38;5;124m\"\u001b[39m\u001b[38;5;124mraw_input was called, but this frontend does not support input requests.\u001b[39m\u001b[38;5;124m\"\u001b[39m\n\u001b[0;32m   1261\u001b[0m     \u001b[38;5;28;01mraise\u001b[39;00m StdinNotImplementedError(msg)\n\u001b[1;32m-> 1262\u001b[0m \u001b[38;5;28;01mreturn\u001b[39;00m \u001b[38;5;28mself\u001b[39m\u001b[38;5;241m.\u001b[39m_input_request(\n\u001b[0;32m   1263\u001b[0m     \u001b[38;5;28mstr\u001b[39m(prompt),\n\u001b[0;32m   1264\u001b[0m     \u001b[38;5;28mself\u001b[39m\u001b[38;5;241m.\u001b[39m_parent_ident[\u001b[38;5;124m\"\u001b[39m\u001b[38;5;124mshell\u001b[39m\u001b[38;5;124m\"\u001b[39m],\n\u001b[0;32m   1265\u001b[0m     \u001b[38;5;28mself\u001b[39m\u001b[38;5;241m.\u001b[39mget_parent(\u001b[38;5;124m\"\u001b[39m\u001b[38;5;124mshell\u001b[39m\u001b[38;5;124m\"\u001b[39m),\n\u001b[0;32m   1266\u001b[0m     password\u001b[38;5;241m=\u001b[39m\u001b[38;5;28;01mFalse\u001b[39;00m,\n\u001b[0;32m   1267\u001b[0m )\n",
      "File \u001b[1;32m~\\anaconda3\\Lib\\site-packages\\ipykernel\\kernelbase.py:1305\u001b[0m, in \u001b[0;36mKernel._input_request\u001b[1;34m(self, prompt, ident, parent, password)\u001b[0m\n\u001b[0;32m   1302\u001b[0m \u001b[38;5;28;01mexcept\u001b[39;00m \u001b[38;5;167;01mKeyboardInterrupt\u001b[39;00m:\n\u001b[0;32m   1303\u001b[0m     \u001b[38;5;66;03m# re-raise KeyboardInterrupt, to truncate traceback\u001b[39;00m\n\u001b[0;32m   1304\u001b[0m     msg \u001b[38;5;241m=\u001b[39m \u001b[38;5;124m\"\u001b[39m\u001b[38;5;124mInterrupted by user\u001b[39m\u001b[38;5;124m\"\u001b[39m\n\u001b[1;32m-> 1305\u001b[0m     \u001b[38;5;28;01mraise\u001b[39;00m \u001b[38;5;167;01mKeyboardInterrupt\u001b[39;00m(msg) \u001b[38;5;28;01mfrom\u001b[39;00m \u001b[38;5;28;01mNone\u001b[39;00m\n\u001b[0;32m   1306\u001b[0m \u001b[38;5;28;01mexcept\u001b[39;00m \u001b[38;5;167;01mException\u001b[39;00m:\n\u001b[0;32m   1307\u001b[0m     \u001b[38;5;28mself\u001b[39m\u001b[38;5;241m.\u001b[39mlog\u001b[38;5;241m.\u001b[39mwarning(\u001b[38;5;124m\"\u001b[39m\u001b[38;5;124mInvalid Message:\u001b[39m\u001b[38;5;124m\"\u001b[39m, exc_info\u001b[38;5;241m=\u001b[39m\u001b[38;5;28;01mTrue\u001b[39;00m)\n",
      "\u001b[1;31mKeyboardInterrupt\u001b[0m: Interrupted by user"
     ]
    }
   ],
   "source": [
    "Database_RPC = { 1 : \"Rock\",\n",
    "                 2 : \"Paper\",\n",
    "                 3 : \"Scissors\"  \n",
    "}\n",
    "\n",
    "Rock_win = \", and Rock beats Scissors,\"\n",
    "Paper_win = \", and Paper beats Rock,\"\n",
    "Scissors_wins = \", and Scissors beats Paper,\"\n",
    "\n",
    "Win = \" So you Win, Congrats!!!!!\"\n",
    "Lose = \" So Duhhh, You lose LLLLL\"\n",
    "\n",
    "\n",
    "i = 0\n",
    "\n",
    "while i<10:\n",
    "\n",
    "    Human_in = input(\"Select Your Input: ---> \" + \"\\n 1. Rock\" + \"\\n 2. Paper\" + \"\\n 3. Scissors\" + \"\\n\" + \"\\n\")\n",
    "    \n",
    "    Human_in = int(Human_in)\n",
    "    \n",
    "    AI = random.randint(1, 3)\n",
    "    \n",
    "    print(\"You choose: \" + Database_RPC[Human_in] + \" \" + str(Human_in) + \"\\n\" + \"AI choose: \" + Database_RPC[AI] + \" \" + str(AI))\n",
    "\n",
    "\n",
    "    if Human_in == AI:\n",
    "        print(\"You both choose \" + Database_RPC[Human_in] + \", so it's a draw \\n\")\n",
    "    elif (Human_in == 1 and AI == 2):\n",
    "        print(\"You choose \" + Database_RPC[Human_in] + Paper_win + Lose)\n",
    "    elif (Human_in == 1 and AI == 3):\n",
    "        print(\"You choose \" + Database_RPC[Human_in] + Rock_win + Win)\n",
    "    elif (Human_in == 2 and AI == 1):\n",
    "        print(\"You choose \" + Database_RPC[Human_in] + Paper_win + Win)\n",
    "    elif (Human_in == 2 and AI == 3):\n",
    "        print(\"You choose \" + Database_RPC[Human_in] + Scissors_wins + Lose)\n",
    "    elif (Human_in == 3 and AI == 1):\n",
    "        print(\"You choose \" + Database_RPC[Human_in] + Rock_win + Lose)\n",
    "    elif (Human_in == 3 and AI == 2):\n",
    "        print(\"You choose \" + Database_RPC[Human_in] + Scissors_wins + Win)\n",
    "\n",
    "    print(\"\\n \\n\")\n",
    "\n",
    "    i = i+1\n",
    "\n"
   ]
  },
  {
   "cell_type": "code",
   "execution_count": null,
   "id": "9267115f-a087-43cb-a6e0-5de416f45c2c",
   "metadata": {},
   "outputs": [],
   "source": []
  },
  {
   "cell_type": "code",
   "execution_count": null,
   "id": "080e1408-87c1-45ac-b998-4cf671c38e42",
   "metadata": {},
   "outputs": [],
   "source": []
  },
  {
   "cell_type": "code",
   "execution_count": null,
   "id": "4411c1db-5aa7-4422-a083-0a5ab4f0d3ec",
   "metadata": {},
   "outputs": [],
   "source": []
  }
 ],
 "metadata": {
  "kernelspec": {
   "display_name": "Python 3 (ipykernel)",
   "language": "python",
   "name": "python3"
  },
  "language_info": {
   "codemirror_mode": {
    "name": "ipython",
    "version": 3
   },
   "file_extension": ".py",
   "mimetype": "text/x-python",
   "name": "python",
   "nbconvert_exporter": "python",
   "pygments_lexer": "ipython3",
   "version": "3.11.7"
  }
 },
 "nbformat": 4,
 "nbformat_minor": 5
}
