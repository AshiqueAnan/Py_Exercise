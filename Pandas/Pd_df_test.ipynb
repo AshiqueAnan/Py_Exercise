{
 "cells": [
  {
   "cell_type": "code",
   "execution_count": 20,
   "id": "2761908b",
   "metadata": {},
   "outputs": [],
   "source": [
    "import numpy as np\n",
    "import pandas as pd"
   ]
  },
  {
   "cell_type": "code",
   "execution_count": 28,
   "id": "eee277de",
   "metadata": {},
   "outputs": [],
   "source": [
    "pandas_df = pd.DataFrame(data = np.random.randint(-500, 500, (5,6)), index = \"A B C D E\".split(), columns = \"Value_1 Value_2 Value_3 Value_4 Value_5 Value_6\".split())"
   ]
  },
  {
   "cell_type": "code",
   "execution_count": 29,
   "id": "8f2d37ba",
   "metadata": {},
   "outputs": [
    {
     "data": {
      "text/html": [
       "<div>\n",
       "<style scoped>\n",
       "    .dataframe tbody tr th:only-of-type {\n",
       "        vertical-align: middle;\n",
       "    }\n",
       "\n",
       "    .dataframe tbody tr th {\n",
       "        vertical-align: top;\n",
       "    }\n",
       "\n",
       "    .dataframe thead th {\n",
       "        text-align: right;\n",
       "    }\n",
       "</style>\n",
       "<table border=\"1\" class=\"dataframe\">\n",
       "  <thead>\n",
       "    <tr style=\"text-align: right;\">\n",
       "      <th></th>\n",
       "      <th>Value_1</th>\n",
       "      <th>Value_2</th>\n",
       "      <th>Value_3</th>\n",
       "      <th>Value_4</th>\n",
       "      <th>Value_5</th>\n",
       "      <th>Value_6</th>\n",
       "    </tr>\n",
       "  </thead>\n",
       "  <tbody>\n",
       "    <tr>\n",
       "      <th>A</th>\n",
       "      <td>-480</td>\n",
       "      <td>392</td>\n",
       "      <td>-104</td>\n",
       "      <td>-225</td>\n",
       "      <td>-19</td>\n",
       "      <td>372</td>\n",
       "    </tr>\n",
       "    <tr>\n",
       "      <th>B</th>\n",
       "      <td>-78</td>\n",
       "      <td>-341</td>\n",
       "      <td>-102</td>\n",
       "      <td>-264</td>\n",
       "      <td>416</td>\n",
       "      <td>307</td>\n",
       "    </tr>\n",
       "    <tr>\n",
       "      <th>C</th>\n",
       "      <td>-393</td>\n",
       "      <td>187</td>\n",
       "      <td>301</td>\n",
       "      <td>-283</td>\n",
       "      <td>-195</td>\n",
       "      <td>-171</td>\n",
       "    </tr>\n",
       "    <tr>\n",
       "      <th>D</th>\n",
       "      <td>-433</td>\n",
       "      <td>-47</td>\n",
       "      <td>37</td>\n",
       "      <td>137</td>\n",
       "      <td>387</td>\n",
       "      <td>-347</td>\n",
       "    </tr>\n",
       "    <tr>\n",
       "      <th>E</th>\n",
       "      <td>236</td>\n",
       "      <td>-393</td>\n",
       "      <td>260</td>\n",
       "      <td>230</td>\n",
       "      <td>-106</td>\n",
       "      <td>-75</td>\n",
       "    </tr>\n",
       "  </tbody>\n",
       "</table>\n",
       "</div>"
      ],
      "text/plain": [
       "   Value_1  Value_2  Value_3  Value_4  Value_5  Value_6\n",
       "A     -480      392     -104     -225      -19      372\n",
       "B      -78     -341     -102     -264      416      307\n",
       "C     -393      187      301     -283     -195     -171\n",
       "D     -433      -47       37      137      387     -347\n",
       "E      236     -393      260      230     -106      -75"
      ]
     },
     "execution_count": 29,
     "metadata": {},
     "output_type": "execute_result"
    }
   ],
   "source": [
    "pandas_df"
   ]
  },
  {
   "cell_type": "code",
   "execution_count": 58,
   "id": "7aaa8dd1",
   "metadata": {},
   "outputs": [
    {
     "data": {
      "text/html": [
       "<div>\n",
       "<style scoped>\n",
       "    .dataframe tbody tr th:only-of-type {\n",
       "        vertical-align: middle;\n",
       "    }\n",
       "\n",
       "    .dataframe tbody tr th {\n",
       "        vertical-align: top;\n",
       "    }\n",
       "\n",
       "    .dataframe thead th {\n",
       "        text-align: right;\n",
       "    }\n",
       "</style>\n",
       "<table border=\"1\" class=\"dataframe\">\n",
       "  <thead>\n",
       "    <tr style=\"text-align: right;\">\n",
       "      <th></th>\n",
       "      <th>Value_1</th>\n",
       "      <th>Value_3</th>\n",
       "    </tr>\n",
       "  </thead>\n",
       "  <tbody>\n",
       "    <tr>\n",
       "      <th>B</th>\n",
       "      <td>-78</td>\n",
       "      <td>-102</td>\n",
       "    </tr>\n",
       "    <tr>\n",
       "      <th>C</th>\n",
       "      <td>-393</td>\n",
       "      <td>301</td>\n",
       "    </tr>\n",
       "    <tr>\n",
       "      <th>D</th>\n",
       "      <td>-433</td>\n",
       "      <td>37</td>\n",
       "    </tr>\n",
       "  </tbody>\n",
       "</table>\n",
       "</div>"
      ],
      "text/plain": [
       "   Value_1  Value_3\n",
       "B      -78     -102\n",
       "C     -393      301\n",
       "D     -433       37"
      ]
     },
     "execution_count": 58,
     "metadata": {},
     "output_type": "execute_result"
    }
   ],
   "source": [
    "pandas_df[[\"Value_1\",\"Value_3\"]][\"B\" : \"D\"] "
   ]
  },
  {
   "cell_type": "code",
   "execution_count": null,
   "id": "e6680ed3",
   "metadata": {},
   "outputs": [],
   "source": []
  }
 ],
 "metadata": {
  "kernelspec": {
   "display_name": "Python 3 (ipykernel)",
   "language": "python",
   "name": "python3"
  },
  "language_info": {
   "codemirror_mode": {
    "name": "ipython",
    "version": 3
   },
   "file_extension": ".py",
   "mimetype": "text/x-python",
   "name": "python",
   "nbconvert_exporter": "python",
   "pygments_lexer": "ipython3",
   "version": "3.9.12"
  }
 },
 "nbformat": 4,
 "nbformat_minor": 5
}
