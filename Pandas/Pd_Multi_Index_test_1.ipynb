{
 "cells": [
  {
   "cell_type": "code",
   "execution_count": 1,
   "id": "0cd389eb-3beb-4cd0-9139-6015f83a35c5",
   "metadata": {},
   "outputs": [],
   "source": [
    "import numpy as np\n",
    "import pandas as pd"
   ]
  },
  {
   "cell_type": "code",
   "execution_count": 2,
   "id": "06c2cbb7-f083-42ad-bebc-2599f8a1289d",
   "metadata": {},
   "outputs": [],
   "source": [
    "school_1st = [\"School_1\", \"School_1\", \"School_1\", \"School_2\", \"School_2\", \"School_2\", \"School_3\", \"School_3\", \"School_3\"]\n",
    "class_2nd = [\"Class A\", \"Class B\", \"Class C\", \"Class A\", \"Class B\", \"Class C\", \"Class A\", \"Class B\", \"Class C\"]"
   ]
  },
  {
   "cell_type": "code",
   "execution_count": 12,
   "id": "44f3440c-49f2-42de-927c-d415f8881139",
   "metadata": {},
   "outputs": [
    {
     "data": {
      "text/plain": [
       "<zip at 0x285b8156d00>"
      ]
     },
     "execution_count": 12,
     "metadata": {},
     "output_type": "execute_result"
    }
   ],
   "source": [
    "zip(school_1st, class_2nd)"
   ]
  },
  {
   "cell_type": "code",
   "execution_count": 13,
   "id": "cfc80c95-0c1c-4fe3-9f1d-d895bf9aa766",
   "metadata": {},
   "outputs": [],
   "source": [
    "mul_indx_data = list(zip(school_1st, class_2nd))"
   ]
  },
  {
   "cell_type": "code",
   "execution_count": 14,
   "id": "4f31c501-0e0f-412c-b26d-62a3bd2400b2",
   "metadata": {},
   "outputs": [
    {
     "data": {
      "text/plain": [
       "[('School_1', 'Class A'),\n",
       " ('School_1', 'Class B'),\n",
       " ('School_1', 'Class C'),\n",
       " ('School_2', 'Class A'),\n",
       " ('School_2', 'Class B'),\n",
       " ('School_2', 'Class C'),\n",
       " ('School_3', 'Class A'),\n",
       " ('School_3', 'Class B'),\n",
       " ('School_3', 'Class C')]"
      ]
     },
     "execution_count": 14,
     "metadata": {},
     "output_type": "execute_result"
    }
   ],
   "source": [
    "mul_indx_data"
   ]
  },
  {
   "cell_type": "code",
   "execution_count": 23,
   "id": "b0bf04ad-5686-495f-98a1-ccd5e8089b40",
   "metadata": {},
   "outputs": [],
   "source": [
    "df_mul_ind = pd.MultiIndex.from_tuples(mul_indx_data)"
   ]
  },
  {
   "cell_type": "code",
   "execution_count": 24,
   "id": "c47c0fa4-22b5-4b59-a7b0-10d9d229f6a1",
   "metadata": {},
   "outputs": [
    {
     "data": {
      "text/plain": [
       "MultiIndex([('School_1', 'Class A'),\n",
       "            ('School_1', 'Class B'),\n",
       "            ('School_1', 'Class C'),\n",
       "            ('School_2', 'Class A'),\n",
       "            ('School_2', 'Class B'),\n",
       "            ('School_2', 'Class C'),\n",
       "            ('School_3', 'Class A'),\n",
       "            ('School_3', 'Class B'),\n",
       "            ('School_3', 'Class C')],\n",
       "           )"
      ]
     },
     "execution_count": 24,
     "metadata": {},
     "output_type": "execute_result"
    }
   ],
   "source": [
    "df_mul_ind"
   ]
  },
  {
   "cell_type": "code",
   "execution_count": 25,
   "id": "9609d39c-2e78-47c9-bf8c-720368b423e5",
   "metadata": {},
   "outputs": [],
   "source": [
    "np.random.seed(10)\n",
    "Smstr_data = np.random.randint(20, 100, (9, 5))"
   ]
  },
  {
   "cell_type": "code",
   "execution_count": 26,
   "id": "245b649b-cb8d-4559-a520-24dd6d924484",
   "metadata": {},
   "outputs": [
    {
     "data": {
      "text/plain": [
       "array([[29, 35, 84, 48, 49],\n",
       "       [28, 93, 20, 60, 56],\n",
       "       [36, 31, 74, 82, 53],\n",
       "       [92, 98, 69, 71, 74],\n",
       "       [97, 89, 33, 45, 33],\n",
       "       [50, 50, 32, 85, 51],\n",
       "       [77, 56, 47, 38, 97],\n",
       "       [42, 43, 31, 48, 94],\n",
       "       [29, 35, 38, 91, 31]])"
      ]
     },
     "execution_count": 26,
     "metadata": {},
     "output_type": "execute_result"
    }
   ],
   "source": [
    "Smstr_data"
   ]
  },
  {
   "cell_type": "code",
   "execution_count": 29,
   "id": "5691b6ce-a19c-44b5-8b18-111939b19671",
   "metadata": {},
   "outputs": [],
   "source": [
    "df_mul = pd.DataFrame(data = Smstr_data, index = df_mul_ind, columns = [\"Semester_1\", \"Semester_2\", \"Semester_3\", \"Semester_4\", \"Semester_5\"])"
   ]
  },
  {
   "cell_type": "code",
   "execution_count": 30,
   "id": "6a449e5e-15a0-4857-b3e1-08673e6c0a5c",
   "metadata": {},
   "outputs": [
    {
     "data": {
      "text/html": [
       "<div>\n",
       "<style scoped>\n",
       "    .dataframe tbody tr th:only-of-type {\n",
       "        vertical-align: middle;\n",
       "    }\n",
       "\n",
       "    .dataframe tbody tr th {\n",
       "        vertical-align: top;\n",
       "    }\n",
       "\n",
       "    .dataframe thead th {\n",
       "        text-align: right;\n",
       "    }\n",
       "</style>\n",
       "<table border=\"1\" class=\"dataframe\">\n",
       "  <thead>\n",
       "    <tr style=\"text-align: right;\">\n",
       "      <th></th>\n",
       "      <th></th>\n",
       "      <th>Semester_1</th>\n",
       "      <th>Semester_2</th>\n",
       "      <th>Semester_3</th>\n",
       "      <th>Semester_4</th>\n",
       "      <th>Semester_5</th>\n",
       "    </tr>\n",
       "  </thead>\n",
       "  <tbody>\n",
       "    <tr>\n",
       "      <th rowspan=\"3\" valign=\"top\">School_1</th>\n",
       "      <th>Class A</th>\n",
       "      <td>29</td>\n",
       "      <td>35</td>\n",
       "      <td>84</td>\n",
       "      <td>48</td>\n",
       "      <td>49</td>\n",
       "    </tr>\n",
       "    <tr>\n",
       "      <th>Class B</th>\n",
       "      <td>28</td>\n",
       "      <td>93</td>\n",
       "      <td>20</td>\n",
       "      <td>60</td>\n",
       "      <td>56</td>\n",
       "    </tr>\n",
       "    <tr>\n",
       "      <th>Class C</th>\n",
       "      <td>36</td>\n",
       "      <td>31</td>\n",
       "      <td>74</td>\n",
       "      <td>82</td>\n",
       "      <td>53</td>\n",
       "    </tr>\n",
       "    <tr>\n",
       "      <th rowspan=\"3\" valign=\"top\">School_2</th>\n",
       "      <th>Class A</th>\n",
       "      <td>92</td>\n",
       "      <td>98</td>\n",
       "      <td>69</td>\n",
       "      <td>71</td>\n",
       "      <td>74</td>\n",
       "    </tr>\n",
       "    <tr>\n",
       "      <th>Class B</th>\n",
       "      <td>97</td>\n",
       "      <td>89</td>\n",
       "      <td>33</td>\n",
       "      <td>45</td>\n",
       "      <td>33</td>\n",
       "    </tr>\n",
       "    <tr>\n",
       "      <th>Class C</th>\n",
       "      <td>50</td>\n",
       "      <td>50</td>\n",
       "      <td>32</td>\n",
       "      <td>85</td>\n",
       "      <td>51</td>\n",
       "    </tr>\n",
       "    <tr>\n",
       "      <th rowspan=\"3\" valign=\"top\">School_3</th>\n",
       "      <th>Class A</th>\n",
       "      <td>77</td>\n",
       "      <td>56</td>\n",
       "      <td>47</td>\n",
       "      <td>38</td>\n",
       "      <td>97</td>\n",
       "    </tr>\n",
       "    <tr>\n",
       "      <th>Class B</th>\n",
       "      <td>42</td>\n",
       "      <td>43</td>\n",
       "      <td>31</td>\n",
       "      <td>48</td>\n",
       "      <td>94</td>\n",
       "    </tr>\n",
       "    <tr>\n",
       "      <th>Class C</th>\n",
       "      <td>29</td>\n",
       "      <td>35</td>\n",
       "      <td>38</td>\n",
       "      <td>91</td>\n",
       "      <td>31</td>\n",
       "    </tr>\n",
       "  </tbody>\n",
       "</table>\n",
       "</div>"
      ],
      "text/plain": [
       "                  Semester_1  Semester_2  Semester_3  Semester_4  Semester_5\n",
       "School_1 Class A          29          35          84          48          49\n",
       "         Class B          28          93          20          60          56\n",
       "         Class C          36          31          74          82          53\n",
       "School_2 Class A          92          98          69          71          74\n",
       "         Class B          97          89          33          45          33\n",
       "         Class C          50          50          32          85          51\n",
       "School_3 Class A          77          56          47          38          97\n",
       "         Class B          42          43          31          48          94\n",
       "         Class C          29          35          38          91          31"
      ]
     },
     "execution_count": 30,
     "metadata": {},
     "output_type": "execute_result"
    }
   ],
   "source": [
    "df_mul"
   ]
  },
  {
   "cell_type": "code",
   "execution_count": null,
   "id": "29a09143-82ef-4523-b68c-bc1664d672af",
   "metadata": {},
   "outputs": [],
   "source": []
  }
 ],
 "metadata": {
  "kernelspec": {
   "display_name": "Python 3 (ipykernel)",
   "language": "python",
   "name": "python3"
  },
  "language_info": {
   "codemirror_mode": {
    "name": "ipython",
    "version": 3
   },
   "file_extension": ".py",
   "mimetype": "text/x-python",
   "name": "python",
   "nbconvert_exporter": "python",
   "pygments_lexer": "ipython3",
   "version": "3.11.7"
  }
 },
 "nbformat": 4,
 "nbformat_minor": 5
}
